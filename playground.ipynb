{
 "cells": [
  {
   "cell_type": "code",
   "execution_count": 1,
   "metadata": {
    "collapsed": false,
    "deletable": true,
    "editable": true
   },
   "outputs": [],
   "source": [
    "import requests\n",
    "from bs4 import BeautifulSoup"
   ]
  },
  {
   "cell_type": "markdown",
   "metadata": {
    "deletable": true,
    "editable": true
   },
   "source": [
    "Use requests to fetch and parse information from:\n",
    "https://www.nextbus.com/\n",
    "\n",
    "Try to parse page specifically about route 8 in SB County OmniBus system\n",
    "\n",
    "https://www.nextbus.com/predictor/adaPrediction.jsp?a=omnitrans&r=8&d=8_0_var1&s=5151"
   ]
  },
  {
   "cell_type": "code",
   "execution_count": 3,
   "metadata": {
    "collapsed": true,
    "deletable": true,
    "editable": true
   },
   "outputs": [],
   "source": [
    "url = 'https://www.nextbus.com/predictor/adaPrediction.jsp?a=omnitrans&r=8&d=8_0_var1&s=5151'\n",
    "response = requests.get(url)\n",
    "prediction_table = None"
   ]
  },
  {
   "cell_type": "code",
   "execution_count": 4,
   "metadata": {
    "collapsed": false,
    "deletable": true,
    "editable": true
   },
   "outputs": [],
   "source": [
    "soup = BeautifulSoup(response.text, 'html.parser')\n",
    "\n",
    "for table in soup.find_all('table'):\n",
    "    # 'class' is a multivalue tag in html, which is returned as\n",
    "    # a list in bs.\n",
    "    if table['class'][0] == 'adaPredictionTable':\n",
    "        # retrieve the Prediction table\n",
    "        prediction_table = table\n"
   ]
  },
  {
   "cell_type": "code",
   "execution_count": 5,
   "metadata": {
    "collapsed": true,
    "deletable": true,
    "editable": true
   },
   "outputs": [],
   "source": [
    "def clean_text(text):\n",
    "    \"\"\" this function is used to clean the space character returned from td.span.text\"\"\"\n",
    "    return text.replace(u'\\xa0', '')"
   ]
  },
  {
   "cell_type": "code",
   "execution_count": 6,
   "metadata": {
    "collapsed": true,
    "deletable": true,
    "editable": true
   },
   "outputs": [],
   "source": [
    "def construct_message(time, unit, direction):\n",
    "    \"\"\" take input time, unit, and direction, then return a meaningful message\"\"\"\n",
    "    return time + ' ' + unit"
   ]
  },
  {
   "cell_type": "code",
   "execution_count": 7,
   "metadata": {
    "collapsed": false,
    "deletable": true,
    "editable": true
   },
   "outputs": [
    {
     "ename": "AttributeError",
     "evalue": "'NoneType' object has no attribute 'text'",
     "output_type": "error",
     "traceback": [
      "\u001b[0;31m---------------------------------------------------------------------------\u001b[0m",
      "\u001b[0;31mAttributeError\u001b[0m                            Traceback (most recent call last)",
      "\u001b[0;32m<ipython-input-7-cae83c8ba3a2>\u001b[0m in \u001b[0;36m<module>\u001b[0;34m()\u001b[0m\n\u001b[1;32m      2\u001b[0m \u001b[0mcleaned_message\u001b[0m \u001b[0;34m=\u001b[0m \u001b[0;34m[\u001b[0m\u001b[0;34m]\u001b[0m\u001b[0;34m\u001b[0m\u001b[0m\n\u001b[1;32m      3\u001b[0m \u001b[0;32mfor\u001b[0m \u001b[0mrow\u001b[0m \u001b[0;32min\u001b[0m \u001b[0mnext_buses\u001b[0m\u001b[0;34m:\u001b[0m\u001b[0;34m\u001b[0m\u001b[0m\n\u001b[0;32m----> 4\u001b[0;31m     \u001b[0mtime\u001b[0m\u001b[0;34m,\u001b[0m \u001b[0munit\u001b[0m\u001b[0;34m,\u001b[0m \u001b[0mdirection\u001b[0m \u001b[0;34m=\u001b[0m \u001b[0;34m[\u001b[0m\u001b[0mclean_text\u001b[0m\u001b[0;34m(\u001b[0m\u001b[0mtd\u001b[0m\u001b[0;34m.\u001b[0m\u001b[0mspan\u001b[0m\u001b[0;34m.\u001b[0m\u001b[0mtext\u001b[0m\u001b[0;34m)\u001b[0m \u001b[0;32mfor\u001b[0m \u001b[0mtd\u001b[0m \u001b[0;32min\u001b[0m \u001b[0mrow\u001b[0m\u001b[0;34m.\u001b[0m\u001b[0mfind_all\u001b[0m\u001b[0;34m(\u001b[0m\u001b[0;34m'td'\u001b[0m\u001b[0;34m)\u001b[0m\u001b[0;34m]\u001b[0m\u001b[0;34m\u001b[0m\u001b[0m\n\u001b[0m\u001b[1;32m      5\u001b[0m     \u001b[0mcleaned_message\u001b[0m\u001b[0;34m.\u001b[0m\u001b[0mappend\u001b[0m\u001b[0;34m(\u001b[0m\u001b[0mconstruct_message\u001b[0m\u001b[0;34m(\u001b[0m\u001b[0mtime\u001b[0m\u001b[0;34m,\u001b[0m \u001b[0munit\u001b[0m\u001b[0;34m,\u001b[0m \u001b[0mdirection\u001b[0m\u001b[0;34m)\u001b[0m\u001b[0;34m)\u001b[0m\u001b[0;34m\u001b[0m\u001b[0m\n\u001b[1;32m      6\u001b[0m \u001b[0;34m\u001b[0m\u001b[0m\n",
      "\u001b[0;31mAttributeError\u001b[0m: 'NoneType' object has no attribute 'text'"
     ]
    }
   ],
   "source": [
    "next_buses = prediction_table.find_all('tr')\n",
    "cleaned_message = []\n",
    "for row in next_buses:\n",
    "    time, unit, direction = [clean_text(td.span.text) for td in row.find_all('td')]\n",
    "    cleaned_message.append(construct_message(time, unit, direction))\n",
    "\n",
    "cleaned_message"
   ]
  },
  {
   "cell_type": "code",
   "execution_count": 8,
   "metadata": {
    "collapsed": false,
    "deletable": true,
    "editable": true
   },
   "outputs": [
    {
     "data": {
      "text/plain": [
       "[<tr>\\n<td class=\"right\">\\n<span class=\"adapredictMinTD\" style=\"font-size: 48px; font-weight: bold;\">\\xa027</span>\\n</td>\\n<td class=\"left\">\\n<span class=\"adapredictMinTD\" style=\"font-size: 32px; font-weight: bold;\">\\xa0minutes</span>\\n</td>\\n<td class=\"left\">\\n</td>\\n</tr>,\n",
       " <tr>\\n<td class=\"right\">\\n<span class=\"adapredictMinTD\" style=\"font-size: 32px; font-weight: bold;\">\\xa087</span>\\n</td>\\n<td class=\"left\">\\n<span class=\"adapredictMinTD\" style=\"font-size: 32px; font-weight: bold;\">\\xa0minutes</span>\\n</td>\\n<td class=\"left\">\\n</td>\\n</tr>]"
      ]
     },
     "execution_count": 8,
     "metadata": {},
     "output_type": "execute_result"
    }
   ],
   "source": [
    "next_buses"
   ]
  },
  {
   "cell_type": "code",
   "execution_count": 12,
   "metadata": {
    "collapsed": false,
    "deletable": true,
    "editable": true
   },
   "outputs": [
    {
     "name": "stdout",
     "output_type": "stream",
     "text": [
      "[<td class=\"right\">\\n<span class=\"adapredictMinTD\" style=\"font-size: 48px; font-weight: bold;\">\\xa027</span>\\n</td>, <td class=\"left\">\\n<span class=\"adapredictMinTD\" style=\"font-size: 32px; font-weight: bold;\">\\xa0minutes</span>\\n</td>, <td class=\"left\">\\n</td>]\n",
      "[<td class=\"right\">\\n<span class=\"adapredictMinTD\" style=\"font-size: 32px; font-weight: bold;\">\\xa087</span>\\n</td>, <td class=\"left\">\\n<span class=\"adapredictMinTD\" style=\"font-size: 32px; font-weight: bold;\">\\xa0minutes</span>\\n</td>, <td class=\"left\">\\n</td>]\n"
     ]
    }
   ],
   "source": [
    "for row in next_buses:\n",
    "    print row.find_all('td')"
   ]
  },
  {
   "cell_type": "code",
   "execution_count": null,
   "metadata": {
    "collapsed": true,
    "deletable": true,
    "editable": true
   },
   "outputs": [],
   "source": []
  }
 ],
 "metadata": {
  "kernelspec": {
   "display_name": "Python (gtfs-realtime)",
   "language": "python",
   "name": "gtfs-realtime"
  },
  "language_info": {
   "codemirror_mode": {
    "name": "ipython",
    "version": 2
   },
   "file_extension": ".py",
   "mimetype": "text/x-python",
   "name": "python",
   "nbconvert_exporter": "python",
   "pygments_lexer": "ipython2",
   "version": "2.7.13"
  }
 },
 "nbformat": 4,
 "nbformat_minor": 2
}
